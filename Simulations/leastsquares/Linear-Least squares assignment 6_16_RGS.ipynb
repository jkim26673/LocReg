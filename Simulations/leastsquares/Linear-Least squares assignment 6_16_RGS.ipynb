{
 "cells": [
  {
   "cell_type": "code",
   "execution_count": 1,
   "id": "3c87eaf4",
   "metadata": {},
   "outputs": [],
   "source": [
    "#Goal: Write code to solve linear-least squares of the from ax_i + b = y\n",
    "import random\n",
    "import numpy as np\n",
    "import matplotlib.pyplot as plt\n",
    "from scipy import stats\n",
    "from scipy.optimize import curve_fit"
   ]
  },
  {
   "cell_type": "code",
   "execution_count": null,
   "id": "1ea7bef3-1597-4744-a8ec-c6869e7ba99d",
   "metadata": {},
   "outputs": [],
   "source": [
    "#Choose some x_i\n",
    "x_i = np.linspace(0,20,15)\n",
    "x_i"
   ]
  },
  {
   "cell_type": "markdown",
   "id": "1fbdb054-f748-4fe3-aac6-e02d3c8b2489",
   "metadata": {},
   "source": [
    "# Noiseless data"
   ]
  },
  {
   "cell_type": "code",
   "execution_count": 82,
   "id": "03d4db55",
   "metadata": {},
   "outputs": [
    {
     "data": {
      "text/plain": [
       "(15,)"
      ]
     },
     "execution_count": 82,
     "metadata": {},
     "output_type": "execute_result"
    },
    {
     "data": {
      "image/png": "[encoded data removed]",
      "text/plain": [
       "<Figure size 432x288 with 1 Axes>"
      ]
     },
     "metadata": {
      "needs_background": "light"
     },
     "output_type": "display_data"
    }
   ],
   "source": [
    "a=3\n",
    "b=4\n",
    "#Simulate random data\n",
    "np.random.seed(333)\n",
    "# y = data = np.random.random(size = 15).reshape(15,1)\n",
    "data = a*x_i+b\n",
    "data\n",
    "plt.plot(x_i,y,'-o')\n",
    "np.shape(data)"
   ]
  },
  {
   "cell_type": "markdown",
   "id": "5c7810dc-7d5b-4210-8188-24bf86cb6fb4",
   "metadata": {},
   "source": [
    "# Noisy data and plot"
   ]
  },
  {
   "cell_type": "code",
   "execution_count": 33,
   "id": "e4ffde0c-59fd-4f6e-8504-a6f22b66a081",
   "metadata": {},
   "outputs": [],
   "source": [
    "# now generate a sequence of random numbers, same length as your signal vector, drawn from a 0-centered Gaussian, with standard deviation \"sigma\" \n",
    "# which you can change to see the effect of additional noise\n",
    "# add it to the signal to get a noisy version of the above graph!\n",
    "# You will define signal-to-noise ratio as:  SNR = signal maximum/(std deviation of the noise vector)"
   ]
  },
  {
   "cell_type": "code",
   "execution_count": 29,
   "id": "2a787770",
   "metadata": {
    "scrolled": true
   },
   "outputs": [
    {
     "data": {
      "text/plain": [
       "array([[ 0.        ,  1.        ],\n",
       "       [ 1.42857143,  1.        ],\n",
       "       [ 2.85714286,  1.        ],\n",
       "       [ 4.28571429,  1.        ],\n",
       "       [ 5.71428571,  1.        ],\n",
       "       [ 7.14285714,  1.        ],\n",
       "       [ 8.57142857,  1.        ],\n",
       "       [10.        ,  1.        ],\n",
       "       [11.42857143,  1.        ],\n",
       "       [12.85714286,  1.        ],\n",
       "       [14.28571429,  1.        ],\n",
       "       [15.71428571,  1.        ],\n",
       "       [17.14285714,  1.        ],\n",
       "       [18.57142857,  1.        ],\n",
       "       [20.        ,  1.        ]])"
      ]
     },
     "execution_count": 29,
     "metadata": {},
     "output_type": "execute_result"
    }
   ],
   "source": [
    "G_matrix2 = np.vstack([x_i, np.ones(len(x_i))]).T\n",
    "G_matrix2"
   ]
  },
  {
   "cell_type": "code",
   "execution_count": 34,
   "id": "b9ab7aae-f296-47bf-97a2-4aba28fce850",
   "metadata": {},
   "outputs": [
    {
     "data": {
      "text/plain": [
       "'C:\\\\Users\\\\spencerri\\\\Dropbox\\\\Joshua Kim'"
      ]
     },
     "execution_count": 34,
     "metadata": {},
     "output_type": "execute_result"
    }
   ],
   "source": [
    "pwd"
   ]
  },
  {
   "cell_type": "code",
   "execution_count": 30,
   "id": "7cd44325",
   "metadata": {},
   "outputs": [
    {
     "data": {
      "text/plain": [
       "array([3., 4.])"
      ]
     },
     "execution_count": 30,
     "metadata": {},
     "output_type": "execute_result"
    }
   ],
   "source": [
    "############\n",
    "#1.Solve for \"best\" a_star,b_star in p_star such that the L2 norm is minimized \n",
    "############\n",
    "p_star  = a_star, b_star = np.linalg.lstsq(G_matrix2, data, rcond=None)[0]\n",
    "p_star"
   ]
  },
  {
   "cell_type": "code",
   "execution_count": 35,
   "id": "f89947c0",
   "metadata": {
    "scrolled": true
   },
   "outputs": [
    {
     "data": {
      "text/plain": [
       "array([[-1.75000000e-02, -1.50000000e-02, -1.25000000e-02,\n",
       "        -1.00000000e-02, -7.50000000e-03, -5.00000000e-03,\n",
       "        -2.50000000e-03,  8.67361738e-19,  2.50000000e-03,\n",
       "         5.00000000e-03,  7.50000000e-03,  1.00000000e-02,\n",
       "         1.25000000e-02,  1.50000000e-02,  1.75000000e-02],\n",
       "       [ 2.41666667e-01,  2.16666667e-01,  1.91666667e-01,\n",
       "         1.66666667e-01,  1.41666667e-01,  1.16666667e-01,\n",
       "         9.16666667e-02,  6.66666667e-02,  4.16666667e-02,\n",
       "         1.66666667e-02, -8.33333333e-03, -3.33333333e-02,\n",
       "        -5.83333333e-02, -8.33333333e-02, -1.08333333e-01]])"
      ]
     },
     "execution_count": 35,
     "metadata": {},
     "output_type": "execute_result"
    }
   ],
   "source": [
    "############\n",
    "#2. actual pseudoinverse closed-form solution\n",
    "# this is good--but also try it with the by-hand matrix version\n",
    "############\n",
    "pinv = np.linalg.pinv(G_matrix2)\n",
    "pinv"
   ]
  },
  {
   "cell_type": "code",
   "execution_count": 37,
   "id": "00a2edc5",
   "metadata": {
    "scrolled": true
   },
   "outputs": [
    {
     "data": {
      "text/plain": [
       "array([3., 4.])"
      ]
     },
     "execution_count": 37,
     "metadata": {},
     "output_type": "execute_result"
    }
   ],
   "source": [
    "p_inv_star = a_inv_star,b_inv_star = np.matmul(pinv,data)\n",
    "p_inv_star"
   ]
  },
  {
   "cell_type": "code",
   "execution_count": 94,
   "id": "3ec94405",
   "metadata": {},
   "outputs": [],
   "source": [
    "############\n",
    "#3.Zero-Order Tikhonov Regularization\n",
    "############\n",
    "#Generate the nxn identity matrix. In this case, this is a 2x2 matrix\n",
    "identity = np.identity(2)\n",
    "identity\n",
    "#Set some value lamb_da \n",
    "lamb_da = 0"
   ]
  },
  {
   "cell_type": "code",
   "execution_count": 95,
   "id": "fdec0b3f",
   "metadata": {},
   "outputs": [
    {
     "data": {
      "text/plain": [
       "array([[ 0.        ,  1.        ],\n",
       "       [ 1.42857143,  1.        ],\n",
       "       [ 2.85714286,  1.        ],\n",
       "       [ 4.28571429,  1.        ],\n",
       "       [ 5.71428571,  1.        ],\n",
       "       [ 7.14285714,  1.        ],\n",
       "       [ 8.57142857,  1.        ],\n",
       "       [10.        ,  1.        ],\n",
       "       [11.42857143,  1.        ],\n",
       "       [12.85714286,  1.        ],\n",
       "       [14.28571429,  1.        ],\n",
       "       [15.71428571,  1.        ],\n",
       "       [17.14285714,  1.        ],\n",
       "       [18.57142857,  1.        ],\n",
       "       [20.        ,  1.        ],\n",
       "       [ 0.        ,  0.        ],\n",
       "       [ 0.        ,  0.        ]])"
      ]
     },
     "execution_count": 95,
     "metadata": {},
     "output_type": "execute_result"
    }
   ],
   "source": [
    "#Generate G_tilde\n",
    "G_tilde = np.concatenate((G_matrix2,lamb_da*identity))\n",
    "G_tilde"
   ]
  },
  {
   "cell_type": "code",
   "execution_count": 96,
   "id": "5ec89973-0d5a-4a12-9f8f-83947606f1a8",
   "metadata": {},
   "outputs": [
    {
     "data": {
      "text/plain": [
       "(array([[0.],\n",
       "        [0.]]),\n",
       " (15,),\n",
       " (2,))"
      ]
     },
     "execution_count": 96,
     "metadata": {},
     "output_type": "execute_result"
    }
   ],
   "source": [
    "np.vstack(np.zeros(2)), np.shape(data), np.shape(np.vstack(np.zeros(2))[:,0])"
   ]
  },
  {
   "cell_type": "code",
   "execution_count": 97,
   "id": "105fa7a0",
   "metadata": {
    "scrolled": true
   },
   "outputs": [
    {
     "data": {
      "text/plain": [
       "array([ 4.        ,  8.28571429, 12.57142857, 16.85714286, 21.14285714,\n",
       "       25.42857143, 29.71428571, 34.        , 38.28571429, 42.57142857,\n",
       "       46.85714286, 51.14285714, 55.42857143, 59.71428571, 64.        ,\n",
       "        0.        ,  0.        ])"
      ]
     },
     "execution_count": 97,
     "metadata": {},
     "output_type": "execute_result"
    }
   ],
   "source": [
    "#Generate data_tilde\n",
    "data_tilde = np.concatenate((data, np.vstack(np.zeros(2))[:,0]))\n",
    "data_tilde"
   ]
  },
  {
   "cell_type": "code",
   "execution_count": 98,
   "id": "59f28dac-0199-4b5c-a594-a85d07a2fb05",
   "metadata": {},
   "outputs": [
    {
     "data": {
      "text/plain": [
       "(15, 17)"
      ]
     },
     "execution_count": 98,
     "metadata": {},
     "output_type": "execute_result"
    }
   ],
   "source": [
    "len(data), len(data_tilde)"
   ]
  },
  {
   "cell_type": "code",
   "execution_count": 99,
   "id": "baf64ce2",
   "metadata": {},
   "outputs": [
    {
     "data": {
      "text/plain": [
       "array([[-1.75000000e-02, -1.50000000e-02, -1.25000000e-02,\n",
       "        -1.00000000e-02, -7.50000000e-03, -5.00000000e-03,\n",
       "        -2.50000000e-03,  8.67361738e-19,  2.50000000e-03,\n",
       "         5.00000000e-03,  7.50000000e-03,  1.00000000e-02,\n",
       "         1.25000000e-02,  1.50000000e-02,  1.75000000e-02,\n",
       "         0.00000000e+00,  0.00000000e+00],\n",
       "       [ 2.41666667e-01,  2.16666667e-01,  1.91666667e-01,\n",
       "         1.66666667e-01,  1.41666667e-01,  1.16666667e-01,\n",
       "         9.16666667e-02,  6.66666667e-02,  4.16666667e-02,\n",
       "         1.66666667e-02, -8.33333333e-03, -3.33333333e-02,\n",
       "        -5.83333333e-02, -8.33333333e-02, -1.08333333e-01,\n",
       "         0.00000000e+00,  0.00000000e+00]])"
      ]
     },
     "execution_count": 99,
     "metadata": {},
     "output_type": "execute_result"
    }
   ],
   "source": [
    "#apply pseudoinverse solution\n",
    "pinv_tilde = np.linalg.pinv(G_tilde)\n",
    "pinv_tilde"
   ]
  },
  {
   "cell_type": "code",
   "execution_count": 101,
   "id": "a70684a1",
   "metadata": {},
   "outputs": [
    {
     "data": {
      "text/plain": [
       "array([3., 4.])"
      ]
     },
     "execution_count": 101,
     "metadata": {},
     "output_type": "execute_result"
    }
   ],
   "source": [
    "#Find the best solution for lambda = 1\n",
    "p_inv_t_star = a_inv_t_star,b_inv_t_star = np.matmul(pinv_tilde,data_tilde)\n",
    "p_inv_t_star"
   ]
  },
  {
   "cell_type": "code",
   "execution_count": 102,
   "id": "4dc7aa6e",
   "metadata": {},
   "outputs": [
    {
     "data": {
      "image/png": "[encoded data removed]",
      "text/plain": [
       "<Figure size 432x288 with 1 Axes>"
      ]
     },
     "metadata": {
      "needs_background": "light"
     },
     "output_type": "display_data"
    }
   ],
   "source": [
    "#Plot it\n",
    "#Plot the original data\n",
    "plot = plt.plot(x_i, y, 'o', label='Original data', markersize=5)\n",
    "#Plot some line from some random choice of a and b\n",
    "#plot =  plt.plot(x_i, a*x_i + b, 'b', label='Fitted line from original a and b')\n",
    "#Plot some line from the \"best\" choice of a and b\n",
    "plot = plt.plot(x_i, a_star*x_i + b_star, 'r', label='Best Fitted line')\n",
    "plot = plt.plot(x_i, a_inv_star*x_i + b_inv_star, 'b', label='Pseudoinverse Fitted line')\n",
    "plot = plt.plot(x_i, a_inv_t_star*x_i + b_inv_t_star, 'g', label='regularized Fitted line with lambda = 1')\n",
    "plot = plt.legend()\n",
    "plt.show()\n"
   ]
  },
  {
   "cell_type": "code",
   "execution_count": 103,
   "id": "1cf9f150",
   "metadata": {
    "scrolled": true
   },
   "outputs": [
    {
     "name": "stdout",
     "output_type": "stream",
     "text": [
      "R-squared bestfit: 1.000000\n",
      "R-squared pseudo: 1.000000\n",
      "R-squared tikhanov: 1.000000\n"
     ]
    }
   ],
   "source": [
    "bestfit = stats.linregress(x_i, (a_star*x_i + b_star))\n",
    "print(f\"R-squared bestfit: {bestfit.rvalue**2:f}\")\n",
    "pseudo = stats.linregress(x_i, (a_inv_star*x_i + b_inv_star))\n",
    "print(f\"R-squared pseudo: {pseudo.rvalue**2:f}\")\n",
    "tikanov = stats.linregress(x_i, (a_inv_t_star*x_i + b_inv_t_star))\n",
    "print(f\"R-squared tikhanov: {tikanov.rvalue**2:f}\")"
   ]
  },
  {
   "cell_type": "code",
   "execution_count": 104,
   "id": "a952c5ad",
   "metadata": {},
   "outputs": [],
   "source": [
    "######\n",
    "#4.Find the best lambda value on some biexponential decay curve\n",
    "######"
   ]
  },
  {
   "cell_type": "code",
   "execution_count": null,
   "id": "72564101",
   "metadata": {},
   "outputs": [],
   "source": [
    "#Generate data\n",
    "t = np.linspace(0,4,50)"
   ]
  },
  {
   "cell_type": "code",
   "execution_count": null,
   "id": "cd9c194e",
   "metadata": {
    "scrolled": true
   },
   "outputs": [],
   "source": [
    "#First generate some biexponential decay curve with 3 parameters\n",
    "def curve(t,a,b):\n",
    "    return a*np.exp(-t/2) + b*np.exp(-t/3)\n"
   ]
  },
  {
   "cell_type": "code",
   "execution_count": null,
   "id": "628016a5",
   "metadata": {},
   "outputs": [],
   "source": [
    "plt.plot(t,curve(t,a=0.7,b=0.3))"
   ]
  },
  {
   "cell_type": "code",
   "execution_count": 18,
   "id": "c79bd8ef",
   "metadata": {},
   "outputs": [],
   "source": [
    "#Example of exponential data\n",
    "y = curve(t,0.3,0.4)\n",
    "#\n",
    "popt, pcov = curve_fit(curve,t,y,p0=(1.0,1.0))\n",
    "p1 = popt[0] # a value\n",
    "p2 = popt[1] # b value"
   ]
  },
  {
   "cell_type": "code",
   "execution_count": 19,
   "id": "a33bf99f",
   "metadata": {},
   "outputs": [],
   "source": [
    "curvey = curve(t,p1,p2) # This is your y axis fit-line"
   ]
  },
  {
   "cell_type": "code",
   "execution_count": 20,
   "id": "d026141a",
   "metadata": {},
   "outputs": [
    {
     "data": {
      "image/png": "[encoded data removed]",
      "text/plain": [
       "<Figure size 432x288 with 1 Axes>"
      ]
     },
     "metadata": {
      "needs_background": "light"
     },
     "output_type": "display_data"
    }
   ],
   "source": [
    "plt.plot(t, curvey, 'red', label='The best-fit line')\n",
    "plt.scatter(t,y, c='b',label='The data points')\n",
    "plt.legend(loc='best')\n",
    "plt.xlabel('t')\n",
    "plt.ylabel('y')\n",
    "plt.show()"
   ]
  },
  {
   "cell_type": "code",
   "execution_count": 21,
   "id": "e56bc038",
   "metadata": {},
   "outputs": [],
   "source": [
    "#Obtain the P* estimates for a decay curve for a given lambda\n",
    "#Simulate across multiple lambdas"
   ]
  },
  {
   "cell_type": "code",
   "execution_count": 22,
   "id": "1b199a59",
   "metadata": {},
   "outputs": [],
   "source": [
    "#Create a histogram of oracle lambdas across noise realizations"
   ]
  },
  {
   "cell_type": "raw",
   "id": "64834e7b-1f19-4671-8628-69f2d9ac2a04",
   "metadata": {},
   "source": [
    "# Oracle lambda:\n",
    "Given a noisy dataset (e.g. a noisy biexponential decay curve, defined by s(t)=c1*exp(-t/tau1) + c2*exp(-t/tau2) + noise\n",
    "that you have generated using your own input values of c1 c1 tau1 and tau2\n",
    "e.g.:  c1=0.3, c2=1-c1=0.7, tau1=35, tau2=65\n",
    "use the standard python package (scipy.optimize.curve_fit) to recover estimates of c1 c2 tau1 and tau2\n",
    "They won't be the actual correct answers because of noise.\n",
    "Now do the regularized version--it's different from the above linear case (since this is nonlinear, you can't use a pseudoinverse, but you can still form g_tilde and d_tilde)--Aster ch 10, eq. 10.4, with L=Id, and then use curve_fit to derive the four parameters (c1 c2 tau1 tau2).  \n",
    "You will find that the values change with the amount of regularization (why?)\n",
    "vary the regularization across a whole range of closely-spaced lambda values and keep track of all the recovered parameter sets\n",
    "for example, with lambda=0.01, and for a certain SNR that you have specified (recall:  use zero-mean Gaussian noise of SD sigma, define SNR as maximum signal amplitude/sigma\n",
    "you may have e.g. SNR in the range of 30 - 1000 (try several values--but start with one and do the whole thing with just one value of SNR, and then see how things change when in increase or decrease snr)\n",
    "For some SNR, some lambda, and for eg the parameter set above, you'll recover values e.g. c1=0.38, c2=0.76, tau1=42, tau2=55\n",
    "Form the L2 norm of the error: square error SE= (0.38-0.3)^2 + (0.76-0.7)^2 + same for the two tau terms\n",
    "now look at SE versus lambda (plot it)\n",
    "and you will see that there should be a minimum at some value of lambda.  That is the \"best\" lambda, known as the \"oracle\" lambda.  It's the lambda you would choose if you had the wisdom of the oracle at Delphi.\n",
    "\n",
    "\n",
    "Extra for experts:  you are probably wondering:  this makes little sense; since the c1 and c2 values are ~100x smaller than the tau values, the selected lambda will really depend only on the tau values!  How can you deal with this???\n",
    "One way:  when you are forming your L2 error, multiply the values 0.38, 0.3, 0.76, 0.7 (in this case) by ~tau/c ~ 100\n",
    "that is, the modified L2 error would be: ((100)*(0.38-0.3))^2 + ((100)*(0.76-0.7))^2 + (35-42)^2 + (55-65)^2 \n",
    "\n"
   ]
  },
  {
   "cell_type": "code",
   "execution_count": null,
   "id": "f1acc6f2-cf30-4611-8a03-3cf100e0d804",
   "metadata": {},
   "outputs": [],
   "source": []
  }
 ],
 "metadata": {
  "kernelspec": {
   "display_name": "Python 3",
   "language": "python",
   "name": "python3"
  },
  "language_info": {
   "codemirror_mode": {
    "name": "ipython",
    "version": 3
   },
   "file_extension": ".py",
   "mimetype": "text/x-python",
   "name": "python",
   "nbconvert_exporter": "python",
   "pygments_lexer": "ipython3",
   "version": "3.8.8"
  }
 },
 "nbformat": 4,
 "nbformat_minor": 5
}
