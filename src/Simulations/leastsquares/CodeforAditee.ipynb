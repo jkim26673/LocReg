{
 "cells": [
  {
   "cell_type": "code",
   "execution_count": 3,
   "metadata": {},
   "outputs": [
    {
     "name": "stderr",
     "output_type": "stream",
     "text": [
      "/home/kimjosy/LocReg_Regularization-1/.venv/lib/python3.10/site-packages/tqdm/auto.py:21: TqdmWarning: IProgress not found. Please update jupyter and ipywidgets. See https://ipywidgets.readthedocs.io/en/stable/user_install.html\n",
      "  from .autonotebook import tqdm as notebook_tqdm\n"
     ]
    }
   ],
   "source": [
    "import scipy\n",
    "from scipy.optimize import curve_fit\n",
    "import matplotlib.pyplot as plt\n",
    "import numpy as np\n",
    "import statistics\n",
    "import math\n",
    "import time\n",
    "from tqdm.auto import trange, tqdm\n",
    "import h5py\n",
    "from itertools import product, zip_longest\n",
    "import torch"
   ]
  },
  {
   "cell_type": "code",
   "execution_count": 13,
   "metadata": {},
   "outputs": [],
   "source": [
    "SNR = 10\n",
    "n_elements = 128\n",
    "d_start = 4\n",
    "d_increment = 4\n",
    "\n",
    "lambdaA = -6\n",
    "lambdaB = 1\n",
    "default_lambdas = np.append(0, np.logspace(lambdaA,lambdaB,51))\n",
    "\n",
    "assert(np.all(default_lambdas>=0))\n",
    "\n",
    "tdata = np.linspace(d_start, d_increment*n_elements, n_elements)\n",
    "assert(tdata[0]==d_start)\n",
    "assert(tdata[-1]==d_increment*n_elements)\n",
    "\n",
    "############\n",
    "#Test case to ensure everything is working\n",
    "lambdas_comprehensive = np.append(0, np.logspace(lambdaA, lambdaB, 251))\n",
    "\n",
    "#ground truth\n",
    "\n",
    "c1 = 0.5\n",
    "c2 = 0.5\n",
    "T21 = 45\n",
    "T22 = 200\n",
    "\n",
    "ob_weight = 100\n",
    "upper_bound = [1,1,500,1500] #Set upper bound on parameters c1, c2, T21, T22, respectively\n",
    "true_params = np.array([c1, c2, T21, T22]) #Set initial guesses\n",
    "initial_params = true_params\n",
    "# initial_params = (0.5, 0.5, 250, 750) #Arbitrary params\n",
    "agg_array = np.array([1,1,1/ob_weight, 1/ob_weight]) # This is to weigh the parameters equally...\n",
    "# agg_array = np.array(1/initial_params)\n",
    "\n",
    "round_Params = [round(num, 2) for num in true_params]\n",
    "pList = ', '.join(str(x) for x in round_Params)\n",
    "\n",
    "plt.style.use('default')"
   ]
  },
  {
   "cell_type": "code",
   "execution_count": 17,
   "metadata": {},
   "outputs": [],
   "source": [
    "#Two parameter definition of s(t) with regularization parameter lambda\n",
    "\n",
    "def G(t, con_1, con_2, tau_1, tau_2): \n",
    "    function = con_1*np.exp(-t/tau_1) + con_2*np.exp(-t/tau_2)\n",
    "    return function\n",
    "\n",
    "def G_tilde(lam, agg_arr = agg_array):\n",
    "    #SA defines the signal amplitude, defaults to 1 for simulated data\n",
    "    agg_arr = lam*agg_arr\n",
    "    def Gt_lam(t, con1, con2, tau1, tau2):\n",
    "        return np.append(G(t, con1, con2, tau1, tau2), [con1, con2, tau1,tau2]*agg_arr)\n",
    "    return Gt_lam\n",
    "\n",
    "def noise(sd):\n",
    "    return np.random.normal(0, sd, n_elements)\n",
    "\n",
    "def add_noise(signal, SNR):\n",
    "    #Given a noiseless signal, adds noise at given SNR and returns a noisy signal\n",
    "    signal_length = len(signal)\n",
    "    noise_sd = signal[0]/SNR\n",
    "    noisy_signal = signal + np.random.normal(0, noise_sd, signal_length)\n",
    "    return noisy_signal\n",
    "\n",
    "#Write your estimate_parameter func\n"
   ]
  },
  {
   "cell_type": "code",
   "execution_count": 32,
   "metadata": {},
   "outputs": [
    {
     "data": {
      "text/plain": [
       "(0.35236836566821333,\n",
       " 0.6286367745343451,\n",
       " 123.78576251451491,\n",
       " 148.68151413253057)"
      ]
     },
     "execution_count": 32,
     "metadata": {},
     "output_type": "execute_result"
    }
   ],
   "source": [
    "lam = 0.01\n",
    "noiseless_curve = G(tdata, c1, c2, T21, T22)\n",
    "data = add_noise(noiseless_curve, SNR)\n",
    "#estimate parameter func"
   ]
  }
 ],
 "metadata": {
  "kernelspec": {
   "display_name": ".venv",
   "language": "python",
   "name": "python3"
  },
  "language_info": {
   "codemirror_mode": {
    "name": "ipython",
    "version": 3
   },
   "file_extension": ".py",
   "mimetype": "text/x-python",
   "name": "python",
   "nbconvert_exporter": "python",
   "pygments_lexer": "ipython3",
   "version": "3.10.12"
  }
 },
 "nbformat": 4,
 "nbformat_minor": 2
}
